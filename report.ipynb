{
 "cells": [
  {
   "cell_type": "markdown",
   "metadata": {},
   "source": [
    "# ROOT analyser"
   ]
  },
  {
   "cell_type": "code",
   "execution_count": null,
   "metadata": {},
   "outputs": [],
   "source": [
    "%load_ext autoreload\n",
    "%autoreload 2\n",
    "\n",
    "import json\n",
    "import cv2 as cv\n",
    "import numpy as np\n",
    "\n",
    "from src.viz.graphs import draw_map\n",
    "from src.viz.images import imshow, scaled_imshow, draw_bbox\n",
    "from src.utils.contours import warp_contour\n",
    "from src.utils.images import calculate_color_coverage, crop_image, rotate_image\n",
    "from src.utils.data import get_pdf_page, get_frame\n",
    "from src.detection.elements import detect_from_reference, detect_dice_tray, detect_score_board, detect_clearings_and_buildings, detect_pawns\n",
    "from src.detection.game import calculate_current_score, calculate_current_buildings_control, calculate_current_clearing_control"
   ]
  },
  {
   "cell_type": "code",
   "execution_count": null,
   "metadata": {},
   "outputs": [],
   "source": [
    "large_imshow = lambda img_to_scale: scaled_imshow(img_to_scale, fx=0.8, fy=0.8)\n",
    "simshow = lambda img_to_scale: scaled_imshow(img_to_scale, fx=0.3, fy=0.3)\n",
    "mini_imshow = lambda img_to_scale: scaled_imshow(img_to_scale, fx=0.2, fy=0.2)"
   ]
  },
  {
   "cell_type": "code",
   "execution_count": null,
   "metadata": {
    "collapsed": false,
    "jupyter": {
     "outputs_hidden": false
    }
   },
   "outputs": [],
   "source": [
    "mse = lambda a_1,a_2: np.mean((np.array(a_1)-np.array(a_2))**2)\n",
    "_max_color_diff = mse((0,0,0),(255,255,255))\n",
    "def color_sim(a_1,a_2):\n",
    "    return 1 - (mse(a_1,a_2)/_max_color_diff)"
   ]
  },
  {
   "cell_type": "code",
   "execution_count": null,
   "metadata": {},
   "outputs": [],
   "source": [
    "clip = lambda idx: f\"clip_{idx}\"\n",
    "clip_mp4 = lambda idx: f\"{clip(idx)}.mp4\""
   ]
  },
  {
   "cell_type": "markdown",
   "metadata": {},
   "source": [
    "## Data"
   ]
  },
  {
   "cell_type": "markdown",
   "metadata": {},
   "source": [
    "The input data was divided into 3 groups depending on the difficulty for example:\n",
    "- easy: perfect top-down view, the game elements are not covered with hands when carrying them, the lighting is good\n",
    "- medium: strong light at the side causing shadows,\n",
    "- difficult: same as medium + a slightly angled camera, hands covering the pieces\n",
    "\n",
    "There are 3 clips per difficulty. The data is located in a [Google Drive]((https://drive.google.com/drive/folders/1VrQ98TC5jPmWk1QYr3lUP3SGk_3_AEmx?usp=sharing)). We also resized the clips using the resize_data.py script, to speed up the detection process.\n"
   ]
  },
  {
   "cell_type": "code",
   "execution_count": null,
   "metadata": {},
   "outputs": [],
   "source": [
    "DATA_DIR = \"./data\"\n",
    "GAME_DATA_DIR = f\"{DATA_DIR}/game_data\"\n",
    "RESULTS_DIR = \"./results\"\n",
    "DIFFICULTIES = [\"easy\", \"medium\", \"hard\"]\n",
    "CLIP_DIRS = dict([(diff, f\"{DATA_DIR}/{diff}\") for diff in DIFFICULTIES])\n",
    "RESIZED_CLIP_DIRS = dict([(diff, f\"{DATA_DIR}/{diff}/resized\") for diff in DIFFICULTIES])\n",
    "FIRST_FRAMES = dict([(diff,get_frame(f\"{_dir}/{clip_mp4(0)}\")) for diff, _dir in CLIP_DIRS.items()])\n",
    "RESIZED_FIRST_FRAMES = dict([(diff,get_frame(f\"{_dir}/{clip_mp4(0)}\")) for diff, _dir in RESIZED_CLIP_DIRS.items()])\n",
    "LOWER_ORANGE = np.array([0, 100, 100])\n",
    "ORANGE = (48,91,198)\n",
    "UPPER_ORANGE = np.array([20, 255, 255])\n",
    "LOWER_DARK_BLUE = np.array([100, 50, 50])\n",
    "BLUE = (92,38,15)\n",
    "UPPER_DARK_BLUE = np.array([140, 255, 255])"
   ]
  },
  {
   "cell_type": "code",
   "execution_count": null,
   "metadata": {},
   "outputs": [],
   "source": [
    "mini_imshow(FIRST_FRAMES[\"easy\"])"
   ]
  },
  {
   "cell_type": "code",
   "execution_count": null,
   "metadata": {},
   "outputs": [],
   "source": [
    "mini_imshow(FIRST_FRAMES[\"medium\"])"
   ]
  },
  {
   "cell_type": "code",
   "execution_count": null,
   "metadata": {},
   "outputs": [],
   "source": [
    "mini_imshow(FIRST_FRAMES[\"hard\"])"
   ]
  },
  {
   "cell_type": "code",
   "execution_count": null,
   "metadata": {
    "collapsed": false,
    "jupyter": {
     "outputs_hidden": false
    }
   },
   "outputs": [],
   "source": [
    "simshow(np.concatenate([RESIZED_FIRST_FRAMES[diff] for diff in DIFFICULTIES], axis=1))"
   ]
  },
  {
   "cell_type": "markdown",
   "metadata": {},
   "source": [
    "The game is played between 2 factions: Eyrie Dynasties (blue birds), Marquise de Cat (orange cats). The board is a Winter Map. Because the clearings in the forest are barely differentiable, a mask was created to help with detecting static elements of the board. "
   ]
  },
  {
   "cell_type": "code",
   "execution_count": null,
   "metadata": {},
   "outputs": [],
   "source": [
    "board_mask = cv.imread(f\"{GAME_DATA_DIR}/board_mask.png\")\n",
    "\n",
    "simshow(board_mask)"
   ]
  },
  {
   "cell_type": "markdown",
   "metadata": {},
   "source": [
    "- The red indicates the where the score track is. \n",
    "- The green defines where craftable items are.\n",
    "- The blue shows where the clearing approximately are, with the black squares showing where building spaces are.\n",
    "\n",
    "JSON was created to define paths on the map, done purely for drawing a graph of the map."
   ]
  },
  {
   "cell_type": "code",
   "execution_count": null,
   "metadata": {},
   "outputs": [],
   "source": [
    "with open(f\"{GAME_DATA_DIR}/board_info.json\", \"r\") as info_file:\n",
    "    board_info = json.load(info_file)\n",
    "\n",
    "draw_map(board_info)"
   ]
  },
  {
   "cell_type": "markdown",
   "metadata": {},
   "source": [
    "To help with detection a print and play set is used with all the elements taken from [PnP PARADISE](https://www.pnpparadise.com/set1/root)."
   ]
  },
  {
   "cell_type": "code",
   "execution_count": null,
   "metadata": {},
   "outputs": [],
   "source": [
    "board_ref = get_pdf_page(f\"{GAME_DATA_DIR}/board.pdf\")\n",
    "\n",
    "simshow(board_ref)"
   ]
  },
  {
   "cell_type": "markdown",
   "metadata": {},
   "source": [
    "## Milestone 1\n",
    "\n",
    "In this phase, the following things were detected:\n",
    "- the black dice tray along with the dice on it\n",
    "- the board"
   ]
  },
  {
   "cell_type": "markdown",
   "metadata": {},
   "source": [
    "### Dice tray detection"
   ]
  },
  {
   "cell_type": "code",
   "execution_count": null,
   "metadata": {},
   "outputs": [],
   "source": [
    "image = FIRST_FRAMES[\"easy\"]\n",
    "gray = cv.cvtColor(image, cv.COLOR_BGR2GRAY)"
   ]
  },
  {
   "cell_type": "code",
   "execution_count": null,
   "metadata": {},
   "outputs": [],
   "source": [
    "mini_imshow(gray)"
   ]
  },
  {
   "cell_type": "markdown",
   "metadata": {},
   "source": [
    "The dice tray is all black so a simple threshold was performed."
   ]
  },
  {
   "cell_type": "code",
   "execution_count": null,
   "metadata": {},
   "outputs": [],
   "source": [
    "tray_cont, dice1_cont, dice2_cont, img_cont = detect_dice_tray(image, 50, draw_contours=True)\n",
    "imshow(img_cont)"
   ]
  },
  {
   "cell_type": "code",
   "execution_count": null,
   "metadata": {},
   "outputs": [],
   "source": [
    "tray = crop_image(image, tray_cont)\n",
    "\n",
    "dice1 = crop_image(image, dice1_cont)\n",
    "dice2 = crop_image(image, dice2_cont)\n",
    "\n",
    "mini_imshow(tray)\n",
    "imshow(dice1)\n",
    "imshow(dice2)"
   ]
  },
  {
   "cell_type": "markdown",
   "metadata": {},
   "source": [
    "### Board detection"
   ]
  },
  {
   "cell_type": "markdown",
   "metadata": {},
   "source": [
    "Detecting the board was harder as it has much more details."
   ]
  },
  {
   "cell_type": "code",
   "execution_count": null,
   "metadata": {},
   "outputs": [],
   "source": [
    "board_gray = cv.GaussianBlur(cv.cvtColor(board_ref, cv.COLOR_BGR2GRAY),(7,7),0)\n",
    "\n",
    "simshow(board_gray)"
   ]
  },
  {
   "cell_type": "markdown",
   "metadata": {},
   "source": [
    "To achieve this steps descriptors are used, in particular the SIFT detector. To quickly match the descriptors FLANN algorithm is used."
   ]
  },
  {
   "cell_type": "code",
   "execution_count": null,
   "metadata": {},
   "outputs": [],
   "source": [
    "M_board, board_cont, img_matches = detect_from_reference(image, board_ref, draw_matches=True)\n",
    "simshow(img_matches)"
   ]
  },
  {
   "cell_type": "code",
   "execution_count": null,
   "metadata": {},
   "outputs": [],
   "source": [
    "crop_board = crop_image(image, board_cont)\n",
    "crop_board = rotate_image(crop_board,0.8)\n",
    "simshow(crop_board)"
   ]
  },
  {
   "cell_type": "markdown",
   "metadata": {},
   "source": [
    "This code doesn't have to be run much, because the board should not a lot move in the clips\n",
    "\n",
    "In the milestone 1, there were also attempts to segment the image using a Gaussian Mixture, but they were quite slow and not effective"
   ]
  },
  {
   "cell_type": "markdown",
   "metadata": {},
   "source": [
    "## Further Progress\n",
    "\n",
    "### Tracking Game Score\n",
    "\n",
    "Game score is tracked in the lower half of the board, by blue and orange counters. They are found using the red part of the mask."
   ]
  },
  {
   "cell_type": "code",
   "execution_count": null,
   "metadata": {
    "collapsed": false,
    "jupyter": {
     "outputs_hidden": false
    }
   },
   "outputs": [],
   "source": [
    "simshow(np.concatenate([board_ref, board_mask], axis=1))"
   ]
  },
  {
   "cell_type": "code",
   "execution_count": null,
   "metadata": {
    "collapsed": false,
    "jupyter": {
     "outputs_hidden": false
    }
   },
   "outputs": [],
   "source": [
    "cell_contours, score_cont = detect_score_board(board_ref, board_mask[:,:,2])\n",
    "score_x,score_y,_,_ = cv.boundingRect(score_cont)\n",
    "test_score_crop = crop_image(board_ref,score_cont)\n",
    "imshow(test_score_crop)"
   ]
  },
  {
   "cell_type": "code",
   "execution_count": null,
   "metadata": {
    "collapsed": false,
    "jupyter": {
     "outputs_hidden": false
    }
   },
   "outputs": [],
   "source": [
    "cell_contours = list(map(lambda cont: warp_contour(cont, M_board), [cont + [score_x,score_y] for cont in cell_contours]))\n",
    "simshow(cv.drawContours(np.copy(image), cell_contours, -1,(255,0,0),2))"
   ]
  },
  {
   "cell_type": "code",
   "execution_count": null,
   "metadata": {
    "collapsed": false,
    "jupyter": {
     "outputs_hidden": false
    }
   },
   "outputs": [],
   "source": [
    "imshow(crop_image(image, cell_contours[0]))"
   ]
  },
  {
   "cell_type": "code",
   "execution_count": null,
   "metadata": {
    "collapsed": false,
    "jupyter": {
     "outputs_hidden": false
    }
   },
   "outputs": [],
   "source": [
    "for i, cell in enumerate(cell_contours):\n",
    "    print(f\"Cell {i}: \", end=\" \")\n",
    "    print(f\"Orange: {calculate_color_coverage(crop_image(image, cell),LOWER_ORANGE,UPPER_ORANGE):.2%}\", end=\" \")\n",
    "    print(f\"Blue: {calculate_color_coverage(crop_image(image, cell),LOWER_DARK_BLUE,UPPER_DARK_BLUE):.2%}\")"
   ]
  },
  {
   "cell_type": "code",
   "execution_count": null,
   "metadata": {
    "collapsed": false,
    "jupyter": {
     "outputs_hidden": false
    }
   },
   "outputs": [],
   "source": [
    "score = calculate_current_score(image, cell_contours, (LOWER_ORANGE,UPPER_ORANGE), (LOWER_DARK_BLUE,UPPER_DARK_BLUE))\n",
    "score"
   ]
  },
  {
   "cell_type": "markdown",
   "metadata": {},
   "source": [
    "### Tracking Card Pile"
   ]
  },
  {
   "cell_type": "markdown",
   "metadata": {},
   "source": [
    "Similarly to the board the cards are found using descriptors"
   ]
  },
  {
   "cell_type": "code",
   "execution_count": null,
   "metadata": {},
   "outputs": [],
   "source": [
    "card_ref = get_pdf_page(f\"{GAME_DATA_DIR}/card_reverse.pdf\")\n",
    "imshow(card_ref)"
   ]
  },
  {
   "cell_type": "code",
   "execution_count": null,
   "metadata": {},
   "outputs": [],
   "source": [
    "M_card, card_cont, img_matches = detect_from_reference(image, card_ref, distance=0.5, draw_matches=True)"
   ]
  },
  {
   "cell_type": "code",
   "execution_count": null,
   "metadata": {},
   "outputs": [],
   "source": [
    "mini_imshow(img_matches)"
   ]
  },
  {
   "cell_type": "code",
   "execution_count": null,
   "metadata": {},
   "outputs": [],
   "source": [
    "crop_card = crop_image(image, card_cont)\n",
    "imshow(crop_card)"
   ]
  },
  {
   "cell_type": "markdown",
   "metadata": {
    "collapsed": false,
    "jupyter": {
     "outputs_hidden": false
    }
   },
   "source": [
    "### Tracking Buildings"
   ]
  },
  {
   "cell_type": "markdown",
   "metadata": {},
   "source": [
    "Buildings are detected using the holes in the clearing mask, as they are stationary."
   ]
  },
  {
   "cell_type": "code",
   "execution_count": null,
   "metadata": {
    "collapsed": false,
    "jupyter": {
     "outputs_hidden": false
    }
   },
   "outputs": [],
   "source": [
    "_, building_contours = detect_clearings_and_buildings(board_mask[:,:,0])\n",
    "building_contours = [building for clearing in building_contours.values() for building in clearing]\n",
    "building_contours = list(map(lambda cont: warp_contour(cont, M_board), building_contours))\n",
    "simshow(cv.drawContours(np.copy(image), building_contours, -1,(255,0,0),2))"
   ]
  },
  {
   "cell_type": "markdown",
   "metadata": {},
   "source": [
    "When percentage of particular color in the building is higher than 33% it is considered to be present."
   ]
  },
  {
   "cell_type": "code",
   "execution_count": null,
   "metadata": {
    "collapsed": false,
    "jupyter": {
     "outputs_hidden": false
    }
   },
   "outputs": [],
   "source": [
    "for i, building in enumerate(building_contours):\n",
    "    b_crop = crop_image(image, building)\n",
    "    print(f\"Building {i}: \", end=\" \")\n",
    "    print(f\"Orange: {calculate_color_coverage(b_crop,LOWER_ORANGE,UPPER_ORANGE):.2%}\", end=\" \")\n",
    "    print(f\"Blue: {calculate_color_coverage(b_crop,LOWER_DARK_BLUE,UPPER_DARK_BLUE):.2%}\")\n",
    "    imshow(b_crop)"
   ]
  },
  {
   "cell_type": "code",
   "execution_count": null,
   "metadata": {
    "collapsed": false,
    "jupyter": {
     "outputs_hidden": false
    }
   },
   "outputs": [],
   "source": [
    "ob, bb = calculate_current_buildings_control(image, building_contours, (LOWER_ORANGE,UPPER_ORANGE), (LOWER_DARK_BLUE,UPPER_DARK_BLUE))\n",
    "sum(ob), sum(bb)"
   ]
  },
  {
   "cell_type": "markdown",
   "metadata": {},
   "source": [
    "### Clearings and building order standardization"
   ]
  },
  {
   "cell_type": "markdown",
   "metadata": {},
   "source": [
    "The clearing contours will be found based on the clearings mask in order for their order to be stable. Then the contours will be properly warped into the board"
   ]
  },
  {
   "cell_type": "code",
   "execution_count": null,
   "metadata": {},
   "outputs": [],
   "source": [
    "clearings,buildings = detect_clearings_and_buildings(board_mask[:,:,0])"
   ]
  },
  {
   "cell_type": "code",
   "execution_count": null,
   "metadata": {},
   "outputs": [],
   "source": [
    "c = np.repeat(np.copy(board_mask[:,:,0])[:,:,np.newaxis],3,axis=2)\n",
    "for i,cont in enumerate(clearings):\n",
    "    x,y,w,h = cv.boundingRect(cont)\n",
    "    c = cv.putText(c,str(i),(x,y),cv.FONT_HERSHEY_COMPLEX,2,(0,255,0),2)\n",
    "cv.drawContours(c,clearings,-1,(0,255,0),5)\n",
    "cv.drawContours(c,buildings[8],-1,(255,0,0),5)\n",
    "simshow(c)"
   ]
  },
  {
   "cell_type": "markdown",
   "metadata": {},
   "source": [
    "### Pawn Tracking\n",
    "\n",
    "To achieve pawn tracking we will take a mask of the clearings\n"
   ]
  },
  {
   "cell_type": "code",
   "execution_count": null,
   "metadata": {},
   "outputs": [],
   "source": [
    "warped_clearing_mask = cv.warpPerspective(board_mask[:,:,0],M_board,(image.shape[1], image.shape[0]))\n",
    "warped_clearings = [warp_contour(cont,M_board) for cont in clearings]"
   ]
  },
  {
   "cell_type": "code",
   "execution_count": null,
   "metadata": {},
   "outputs": [],
   "source": [
    "pawn_crop_test = crop_image(cv.bitwise_and(image,image,mask=warped_clearing_mask),board_cont)\n",
    "mini_imshow(pawn_crop_test)"
   ]
  },
  {
   "cell_type": "markdown",
   "metadata": {},
   "source": [
    "And convert the color range to HSV"
   ]
  },
  {
   "cell_type": "code",
   "execution_count": null,
   "metadata": {},
   "outputs": [],
   "source": [
    "mini_imshow(cv.cvtColor(pawn_crop_test,cv.COLOR_BGR2HSV))"
   ]
  },
  {
   "cell_type": "markdown",
   "metadata": {},
   "source": [
    "And the elements in orange range and blue range are cropped. Because other elements get in the way, the pawn counting is divided into 2 parts.\n",
    "\n",
    "1. We divide the checked area by the biggest area and see if it is smaller than some sensitivity threshold.\n",
    "2. Per clearing we take the given area and divide it by areas 'derivative' and check for another threshold."
   ]
  },
  {
   "cell_type": "code",
   "execution_count": null,
   "metadata": {
    "collapsed": false,
    "jupyter": {
     "outputs_hidden": false
    }
   },
   "outputs": [],
   "source": [
    "op, bp = detect_pawns(image, warped_clearing_mask, warped_clearings, (LOWER_ORANGE,UPPER_ORANGE), (LOWER_DARK_BLUE,UPPER_DARK_BLUE))\n",
    "\n",
    "for i in range(12):\n",
    "    print(f\"Clearing {i}: \", end=\" \")\n",
    "    print(f\"Orange: {len(op[i])}\", end=\" \")\n",
    "    print(f\"Blue: {len(bp[i])}\")\n",
    "    imshow(crop_image(image, warped_clearings[i]))"
   ]
  },
  {
   "cell_type": "code",
   "execution_count": null,
   "metadata": {
    "collapsed": false,
    "jupyter": {
     "outputs_hidden": false
    }
   },
   "outputs": [],
   "source": [
    "oc, bc = calculate_current_clearing_control(op, bp)\n",
    "sum(oc), sum(bc)"
   ]
  },
  {
   "cell_type": "code",
   "execution_count": null,
   "metadata": {
    "collapsed": false,
    "jupyter": {
     "outputs_hidden": false
    }
   },
   "outputs": [],
   "source": [
    "rects = [cv.boundingRect(clearing) for clearing in warped_clearings]\n",
    "orange_pawns = [cv.boundingRect(pawn + [rects[c_idx][0], rects[c_idx][1]]) for c_idx, clearing in op.items() for pawn in clearing]\n",
    "blue_pawns = [cv.boundingRect(pawn + [rects[c_idx][0], rects[c_idx][1]]) for c_idx, clearing in bp.items() for pawn in clearing]\n",
    "\n",
    "img_cont = np.copy(image)\n",
    "cv.drawContours(img_cont, warped_clearings, -1, (0,255,0), 2)\n",
    "\n",
    "for pawns, color in ((orange_pawns, ORANGE), (blue_pawns, BLUE)):\n",
    "    for rect in pawns:\n",
    "        draw_bbox(img_cont, rect, color)\n",
    "\n",
    "imshow(img_cont)"
   ]
  },
  {
   "cell_type": "markdown",
   "metadata": {},
   "source": [
    "This solution is not perfect but good enough.\n",
    "\n",
    "The pawns tracking helps us complete tracking of the game state by determining the control of each clearing and the number of pawns of each of them."
   ]
  },
  {
   "cell_type": "markdown",
   "metadata": {
    "collapsed": false,
    "jupyter": {
     "outputs_hidden": false
    }
   },
   "source": [
    "## Putting it all together"
   ]
  },
  {
   "cell_type": "markdown",
   "metadata": {},
   "source": [
    "### Tracking algorithms and design decisions\n",
    "\n",
    "When it comes to tracking, we found that on the higher resolutions the tracking algorithm using CSRT performed much better. This also applies to re-detection of objects.\n",
    "\n",
    "Frequently moving elements are tracked using CSRT algorithm e.g. Dice and the Cards. To counter the tracking algorithm occasionally losing them, they are re-detected more frequently compared to stationary objects.\n",
    "\n",
    "Things that change in stationary places, tracked by much simpler algorithms, with the stationary objects they are in being re-detected much less frequently to counter occasional camera movement."
   ]
  },
  {
   "cell_type": "markdown",
   "metadata": {},
   "source": [
    "### Tracking game state and events\n",
    "\n",
    "The game state is tracked by detecting the following events:\n",
    "\n",
    "1. Game score\n",
    "2. Number of buildings in each clearing\n",
    "3. Number of pawns in each clearing\n",
    "4. Control of each clearing\n",
    "\n",
    "Which describe the most important part of the game state, especially for these 2 factions\n",
    "\n",
    "There are several events that we detect:\n",
    "1. Dice rolling\n",
    "2. Buildings change\n",
    "3. Score change\n",
    "4. Drawing of a card by some player\n",
    "5. Pawns change \n",
    "\n",
    "For some of them the change in average state over time is measured to decrease their sensitivity. "
   ]
  },
  {
   "cell_type": "code",
   "execution_count": null,
   "metadata": {
    "collapsed": false,
    "jupyter": {
     "outputs_hidden": false
    }
   },
   "outputs": [],
   "source": [
    "img_with_state = np.copy(image)\n",
    "\n",
    "# Dice tray and dice\n",
    "cv.drawContours(img_with_state, [tray_cont], -1, (0,122,0), 2)\n",
    "dice_1, dice_2 = cv.boundingRect(dice1_cont), cv.boundingRect(dice2_cont)\n",
    "draw_bbox(img_with_state, dice_1, (0,0, 255))\n",
    "cv.putText(img_with_state, \"Dice 1\", (dice_1[0] + dice_1[2]//2 - 10, dice_1[1] - 10), cv.FONT_HERSHEY_COMPLEX, 1, (0, 0, 255), 2)\n",
    "draw_bbox(img_with_state, dice_2, (0,0, 255))\n",
    "cv.putText(img_with_state, \"Dice 2\", (dice_2[0] + dice_2[2]//2 - 10, dice_2[1] - 10), cv.FONT_HERSHEY_COMPLEX, 1, (0, 0, 255), 2)\n",
    "\n",
    "# Board\n",
    "cv.drawContours(img_with_state, [board_cont], -1, (0,122,0), 2)\n",
    "\n",
    "# Score Board\n",
    "cv.drawContours(img_with_state, cell_contours, -1, (0,122,0), 2)\n",
    "cv.drawContours(img_with_state, [cell_contours[score[1]]], -1, BLUE, 3)\n",
    "cv.drawContours(img_with_state, [cell_contours[score[0]]], -1, ORANGE, 3)\n",
    "\n",
    "# Cards\n",
    "cards = cv.boundingRect(card_cont)\n",
    "cv.drawContours(img_with_state, [card_cont], -1, (0,122,0), 2)\n",
    "draw_bbox(img_with_state, cards, (0,0, 255))\n",
    "cv.putText(img_with_state, \"Cards\", (cards[0] + cards[2]//2 - 10, cards[1] - 10), cv.FONT_HERSHEY_COMPLEX, 1, (0, 0, 255), 2)\n",
    "\n",
    "# Buildings\n",
    "cv.drawContours(img_with_state, building_contours, -1, (0,122,0), 2)\n",
    "cv.drawContours(img_with_state, [building_contours[i] for i in range(len(building_contours)) if bb[i]], -1, BLUE, 3)\n",
    "cv.drawContours(img_with_state, [building_contours[i] for i in range(len(building_contours)) if ob[i]], -1, ORANGE, 3)\n",
    "\n",
    "# Clearings and pawns\n",
    "cv.drawContours(img_with_state, warped_clearings, -1, (0,122,0), 2)\n",
    "cv.drawContours(img_with_state, [warped_clearings[i] for i in range(len(warped_clearings)) if bc[i]], -1, BLUE, 3)\n",
    "cv.drawContours(img_with_state, [warped_clearings[i] for i in range(len(warped_clearings)) if oc[i]], -1, ORANGE, 3)\n",
    "\n",
    "for idx, clearing in enumerate([cv.boundingRect(warped_clearings[i]) for i in range(len(warped_clearings))]):\n",
    "    cv.putText(img_with_state, str(len(op[idx])), (clearing[0] + clearing[2]//2 - 30, clearing[1] - 10), cv.FONT_HERSHEY_COMPLEX, 1, ORANGE, 3)\n",
    "    cv.putText(img_with_state, \":\", (clearing[0] + clearing[2]//2 - 7, clearing[1] - 10), cv.FONT_HERSHEY_COMPLEX, 1, (0, 0, 0), 3)\n",
    "    cv.putText(img_with_state, str(len(bp[idx])), (clearing[0] + clearing[2]//2 + 10, clearing[1] - 10), cv.FONT_HERSHEY_COMPLEX, 1, BLUE, 3)\n",
    "\n",
    "for pawns, color in ((orange_pawns, ORANGE), (blue_pawns, BLUE)):\n",
    "    for rect in pawns:\n",
    "        draw_bbox(img_with_state, rect, color, 3)\n",
    "\n",
    "# Displaying events\n",
    "for idx, event in enumerate((\n",
    "        \"Dice 1 rolled\", \n",
    "        \"Dice 2 rolled\", \n",
    "        \"Card drawn - Orange\",\n",
    "        f\"Score - Orange {score[0]} Blue {score[1]}\", \n",
    "        f\"Buildings Constructed - Orange {sum(ob)} Blue {sum(bb)}\", \n",
    "        f\"Pawns Placed - Orange {len(orange_pawns)} Blue {len(blue_pawns)}\")\n",
    "):\n",
    "    cv.putText(img_with_state, event, (10, 50 + idx * 75), cv.FONT_HERSHEY_COMPLEX, 2, (0, 0, 0), 12)\n",
    "    cv.putText(img_with_state, event, (10, 50 + idx * 75), cv.FONT_HERSHEY_COMPLEX, 2, (255, 255, 255), 3)\n",
    "\n",
    "        \n",
    "imshow(img_with_state)"
   ]
  },
  {
   "cell_type": "markdown",
   "metadata": {},
   "source": [
    "## Results"
   ]
  },
  {
   "cell_type": "markdown",
   "metadata": {},
   "source": [
    "### Easy\n",
    "\n",
    "For easy clips tracking is overall good, but we've noticed a few bugs:\n",
    "1. Sometimes, when pawn is placed slightly in the building slot, the system will cout it as building\n",
    "2. Some pawns are not counted as ones\n",
    "3. Restarting tracking of the mobile components often times breaks after movement, specially for dice"
   ]
  },
  {
   "cell_type": "markdown",
   "metadata": {},
   "source": [
    "### Medium\n",
    "\n",
    "For medium clips tracking is worse than on easy, and we've noticed:\n",
    "\n",
    "1. Tracking of pawns and buildings gets really unstable, especially when there are many placed\n",
    "2. Detecting pawns and building gets problematic because of the light and shadows\n",
    "3. Detecting dice and the dice tray is bugging out, sometimes detecting the blue player's game card"
   ]
  },
  {
   "cell_type": "markdown",
   "metadata": {},
   "source": [
    "### Hard\n",
    "\n",
    "For hard clips tracking works suprisingly well, given that it is rotated, with hard light conditions. We've noticed following bugs:\n",
    "\n",
    "1. Detecting dice tray and dice gets almost impossible, oftentimes bugging out\n",
    "2. There are problems with detecting pawns and buildings, game has problems with tracking its clearing control state"
   ]
  }
 ],
 "metadata": {
  "kernelspec": {
   "display_name": "Python 3 (ipykernel)",
   "language": "python",
   "name": "python3"
  },
  "language_info": {
   "codemirror_mode": {
    "name": "ipython",
    "version": 3
   },
   "file_extension": ".py",
   "mimetype": "text/x-python",
   "name": "python",
   "nbconvert_exporter": "python",
   "pygments_lexer": "ipython3",
   "version": "3.10.13"
  }
 },
 "nbformat": 4,
 "nbformat_minor": 4
}
