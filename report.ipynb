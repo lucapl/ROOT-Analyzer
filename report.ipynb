{
 "cells": [
  {
   "cell_type": "markdown",
   "metadata": {},
   "source": [
    "# ROOT analyser"
   ]
  },
  {
   "cell_type": "code",
   "execution_count": null,
   "metadata": {},
   "outputs": [],
   "source": [
    "%load_ext autoreload\n",
    "%autoreload 2\n",
    "\n",
    "import json\n",
    "import cv2 as cv\n",
    "import numpy as np\n",
    "\n",
    "from src.viz.graphs import draw_map\n",
    "from src.viz.images import imshow, scaled_imshow\n",
    "from src.utils import crop_contour, rotate_image, warp_contour, calculate_color_percentage, resize_contour, get_clearings_and_buildings\n",
    "from src.file_reading import read_pdf\n",
    "from src.detection.elements import descriptor_detect, detect_dice_tray, detect_score_board, detect_buildings,detect_pawns\n",
    "from src.detection.game import calculate_current_score\n",
    "from src.get_first_frame import get_first_frame\n",
    "from src.tracking.algorithms import track_video\n",
    "from src.tracking.Card import Card,CardPile\n",
    "from src.tracking.ScoreBoard import ScoreBoard\n",
    "from src.tracking.Buildings import Buildings\n",
    "from src.tracking.Board import Board\n",
    "from src.tracking.Dice import Dice,DiceTray\n",
    "from src.tracking.Pawns import Pawns"
   ]
  },
  {
   "cell_type": "code",
   "execution_count": null,
   "metadata": {},
   "outputs": [],
   "source": [
    "large_imshow = lambda img_to_scale: scaled_imshow(img_to_scale, fx=0.8, fy=0.8)\n",
    "simshow = lambda img_to_scale: scaled_imshow(img_to_scale, fx=0.3, fy=0.3)\n",
    "mini_imshow = lambda img_to_scale: scaled_imshow(img_to_scale, fx=0.2, fy=0.2)"
   ]
  },
  {
   "cell_type": "code",
   "execution_count": null,
   "metadata": {
    "collapsed": false
   },
   "outputs": [],
   "source": [
    "mse = lambda a_1,a_2: np.mean((np.array(a_1)-np.array(a_2))**2)\n",
    "_max_color_diff = mse((0,0,0),(255,255,255))\n",
    "def color_sim(a_1,a_2):\n",
    "    return 1 - (mse(a_1,a_2)/_max_color_diff)"
   ]
  },
  {
   "cell_type": "code",
   "execution_count": null,
   "metadata": {},
   "outputs": [],
   "source": [
    "clip = lambda idx: f\"clip_{idx}\"\n",
    "clip_mp4 = lambda idx: f\"{clip(idx)}.mp4\""
   ]
  },
  {
   "cell_type": "markdown",
   "metadata": {},
   "source": [
    "## Data"
   ]
  },
  {
   "cell_type": "markdown",
   "metadata": {},
   "source": [
    "The input data was divided into 3 groups depending on the difficulty for example:\n",
    "- easy: perfect top-down view, the game elements are not covered with hands when carrying them, the lighting is good\n",
    "- medium: strong light at the side causing shadows,\n",
    "- difficult: same as medium + a slightly angled camera, hands covering the pieces\n",
    "\n",
    "There are 3 clips per difficulty. The data is located in a [Google Drive]((https://drive.google.com/drive/folders/1VrQ98TC5jPmWk1QYr3lUP3SGk_3_AEmx?usp=sharing)). We also resized the clips using the resize_data.py script, to speed up the detection process.\n"
   ]
  },
  {
   "cell_type": "code",
   "execution_count": null,
   "metadata": {},
   "outputs": [],
   "source": [
    "DATA_DIR = \"./data\"\n",
    "DIFFICULTIES = [\"easy\", \"medium\", \"hard\"]\n",
    "CLIP_DIRS = dict([(diff, f\"{DATA_DIR}/{diff}\") for diff in DIFFICULTIES])\n",
    "RESIZED_CLIP_DIRS = dict([(diff, f\"{DATA_DIR}/{diff}/resized\") for diff in DIFFICULTIES])\n",
    "FIRST_FRAMES = dict([(diff,get_first_frame(f\"{_dir}/{clip_mp4(0)}\")) for diff, _dir in CLIP_DIRS.items()])\n",
    "RESIZED_FIRST_FRAMES = dict([(diff,get_first_frame(f\"{_dir}/{clip_mp4(0)}\")) for diff, _dir in RESIZED_CLIP_DIRS.items()])\n",
    "LOWER_ORANGE = np.array([0, 100, 100])\n",
    "ORANGE = (48,91,198)\n",
    "UPPER_ORANGE = np.array([20, 255, 255])\n",
    "LOWER_DARK_BLUE = np.array([100, 50, 50])\n",
    "BLUE = (92,38,15)\n",
    "UPPER_DARK_BLUE = np.array([140, 255, 255])"
   ]
  },
  {
   "cell_type": "code",
   "execution_count": null,
   "metadata": {},
   "outputs": [],
   "source": [
    "mini_imshow(FIRST_FRAMES[\"easy\"])"
   ]
  },
  {
   "cell_type": "code",
   "execution_count": null,
   "metadata": {},
   "outputs": [],
   "source": [
    "mini_imshow(FIRST_FRAMES[\"medium\"])"
   ]
  },
  {
   "cell_type": "code",
   "execution_count": null,
   "metadata": {},
   "outputs": [],
   "source": [
    "mini_imshow(FIRST_FRAMES[\"hard\"])"
   ]
  },
  {
   "cell_type": "code",
   "execution_count": null,
   "metadata": {
    "collapsed": false
   },
   "outputs": [],
   "source": [
    "simshow(np.concatenate([RESIZED_FIRST_FRAMES[diff] for diff in DIFFICULTIES], axis=1))"
   ]
  },
  {
   "cell_type": "markdown",
   "metadata": {},
   "source": [
    "The game is played between 2 factions: Eyrie Dynasties (blue birds), Marquise de Cat (orange cats). The board is a Winter Map. Because the clearings in the forest are barely differentiable, a mask was created to help with detecting static elements of the board. "
   ]
  },
  {
   "cell_type": "code",
   "execution_count": null,
   "metadata": {},
   "outputs": [],
   "source": [
    "GAME_DATA_DIR = f\"{DATA_DIR}/game_data\""
   ]
  },
  {
   "cell_type": "code",
   "execution_count": null,
   "metadata": {},
   "outputs": [],
   "source": [
    "board_mask = cv.imread(f\"{GAME_DATA_DIR}/board_mask.png\")\n",
    "\n",
    "simshow(board_mask)"
   ]
  },
  {
   "cell_type": "markdown",
   "metadata": {},
   "source": [
    "- The red indicates the where the score track is. \n",
    "- The green defines where craftable items are.\n",
    "- The blue shows where the clearing approximately are, with the black squares showing where building spaces are.\n",
    "\n",
    "JSON was created to define paths on the map, done purely for drawing a graph of the map."
   ]
  },
  {
   "cell_type": "code",
   "execution_count": null,
   "metadata": {},
   "outputs": [],
   "source": [
    "with open(f\"{GAME_DATA_DIR}/board_info.json\", \"r\") as info_file:\n",
    "    board_info = json.load(info_file)\n",
    "\n",
    "draw_map(board_info)"
   ]
  },
  {
   "cell_type": "markdown",
   "metadata": {},
   "source": [
    "To help with detection a print and play set is used with all the elements taken from [PnP PARADISE](https://www.pnpparadise.com/set1/root)."
   ]
  },
  {
   "cell_type": "code",
   "execution_count": null,
   "metadata": {},
   "outputs": [],
   "source": [
    "board_ref = read_pdf(f\"{GAME_DATA_DIR}/board.pdf\")\n",
    "# board_ref = cv.imread(f\"{GAME_DATA_DIR}/board.jpg\")\n",
    "\n",
    "simshow(board_ref)"
   ]
  },
  {
   "cell_type": "markdown",
   "metadata": {},
   "source": [
    "## Milestone 1\n",
    "\n",
    "In this phase, the following things were detected:\n",
    "- the black dice tray along with the dice on it\n",
    "- the board"
   ]
  },
  {
   "cell_type": "markdown",
   "metadata": {},
   "source": [
    "### Dice tray detection"
   ]
  },
  {
   "cell_type": "code",
   "execution_count": null,
   "metadata": {},
   "outputs": [],
   "source": [
    "#image = RESIZED_FIRST_FRAMES[\"easy\"]\n",
    "image = FIRST_FRAMES[\"easy\"]\n",
    "gray = cv.cvtColor(image, cv.COLOR_BGR2GRAY)"
   ]
  },
  {
   "cell_type": "code",
   "execution_count": null,
   "metadata": {},
   "outputs": [],
   "source": [
    "mini_imshow(gray)"
   ]
  },
  {
   "cell_type": "markdown",
   "metadata": {},
   "source": [
    "The dice tray is all black so a simple threshold was performed."
   ]
  },
  {
   "cell_type": "code",
   "execution_count": null,
   "metadata": {},
   "outputs": [],
   "source": [
    "tray_cont,dice1_cont,dice2_cont,img_cont = detect_dice_tray(image, 30)\n",
    "imshow(img_cont)"
   ]
  },
  {
   "cell_type": "code",
   "execution_count": null,
   "metadata": {},
   "outputs": [],
   "source": [
    "tray = crop_contour(image, tray_cont)\n",
    "\n",
    "dice1 = crop_contour(image, dice1_cont)\n",
    "dice2 = crop_contour(image, dice2_cont)\n",
    "\n",
    "mini_imshow(tray)\n",
    "imshow(dice1)\n",
    "imshow(dice2)"
   ]
  },
  {
   "cell_type": "markdown",
   "metadata": {},
   "source": [
    "### Board detection"
   ]
  },
  {
   "cell_type": "markdown",
   "metadata": {},
   "source": [
    "Detecting the board was harder as it has much more details."
   ]
  },
  {
   "cell_type": "code",
   "execution_count": null,
   "metadata": {},
   "outputs": [],
   "source": [
    "board_gray = cv.GaussianBlur(cv.cvtColor(board_ref, cv.COLOR_BGR2GRAY),(7,7),0)\n",
    "\n",
    "simshow(board_gray)"
   ]
  },
  {
   "cell_type": "markdown",
   "metadata": {},
   "source": [
    "To achieve this steps descriptors are used, in particular the SIFT detector. To quickly match the descriptors FLANN algorithm is used."
   ]
  },
  {
   "cell_type": "code",
   "execution_count": null,
   "metadata": {},
   "outputs": [],
   "source": [
    "M_board, drawn_matches_board, board_cont = descriptor_detect(image, board_ref)\n",
    "simshow(drawn_matches_board)"
   ]
  },
  {
   "cell_type": "code",
   "execution_count": null,
   "metadata": {},
   "outputs": [],
   "source": [
    "crop_board = crop_contour(image, board_cont)\n",
    "crop_board = rotate_image(crop_board,0.8)\n",
    "simshow(crop_board)"
   ]
  },
  {
   "cell_type": "markdown",
   "metadata": {},
   "source": [
    "This code doesn't have to be run much, because the board should not a lot move in the clips\n",
    "\n",
    "In the milestone 1, there were also attempts to segment the image using a Gaussian Mixture, but they were quite slow and not effective"
   ]
  },
  {
   "cell_type": "markdown",
   "metadata": {},
   "source": [
    "## Further Progress\n",
    "\n",
    "### Tracking Game Score\n",
    "\n",
    "Game score is tracked in the lower half of the board, by blue and orange counters. They are found using the red part of the mask."
   ]
  },
  {
   "cell_type": "code",
   "execution_count": null,
   "metadata": {
    "collapsed": false
   },
   "outputs": [],
   "source": [
    "simshow(np.concatenate([board_ref, board_mask], axis=1))"
   ]
  },
  {
   "cell_type": "code",
   "execution_count": null,
   "metadata": {
    "collapsed": false
   },
   "outputs": [],
   "source": [
    "cell_contours, score_cont = detect_score_board(board_ref, board_mask[:,:,2])\n",
    "score_x,score_y,_,_ = cv.boundingRect(score_cont)\n",
    "test_score_crop = crop_contour(board_ref,score_cont)\n",
    "imshow(test_score_crop)"
   ]
  },
  {
   "cell_type": "code",
   "execution_count": null,
   "metadata": {
    "collapsed": false
   },
   "outputs": [],
   "source": [
    "cell_contours = list(map(lambda cont: warp_contour(cont, M_board), [cont + [score_x,score_y] for cont in cell_contours]))\n",
    "simshow(cv.drawContours(np.copy(image), cell_contours, -1,(255,0,0),2))"
   ]
  },
  {
   "cell_type": "code",
   "execution_count": null,
   "metadata": {
    "collapsed": false
   },
   "outputs": [],
   "source": [
    "imshow(crop_contour(image, cell_contours[0]))"
   ]
  },
  {
   "cell_type": "code",
   "execution_count": null,
   "metadata": {
    "collapsed": false
   },
   "outputs": [],
   "source": [
    "for i, cell in enumerate(cell_contours):\n",
    "    print(f\"Cell {i}: \", end=\" \")\n",
    "    print(f\"Orange: {calculate_color_percentage(crop_contour(image, cell),LOWER_ORANGE,UPPER_ORANGE):.2f}%\", end=\" \")\n",
    "    print(f\"Blue: {calculate_color_percentage(crop_contour(image, cell),LOWER_DARK_BLUE,UPPER_DARK_BLUE):.2f}%\")"
   ]
  },
  {
   "cell_type": "code",
   "execution_count": null,
   "metadata": {
    "collapsed": false
   },
   "outputs": [],
   "source": [
    "calculate_current_score(image, cell_contours, (LOWER_ORANGE,UPPER_ORANGE), (LOWER_DARK_BLUE,UPPER_DARK_BLUE))"
   ]
  },
  {
   "cell_type": "markdown",
   "metadata": {},
   "source": [
    "### Tracking Card Pile"
   ]
  },
  {
   "cell_type": "markdown",
   "metadata": {},
   "source": [
    "Similarly to the board the cards are found using descriptors"
   ]
  },
  {
   "cell_type": "code",
   "execution_count": null,
   "metadata": {},
   "outputs": [],
   "source": [
    "card_ref = read_pdf(f\"{GAME_DATA_DIR}/card_reverse.pdf\")\n",
    "imshow(card_ref)"
   ]
  },
  {
   "cell_type": "code",
   "execution_count": null,
   "metadata": {},
   "outputs": [],
   "source": [
    "M_card, drawn_matches_card, card_cont = descriptor_detect(image, card_ref, distance=0.5)"
   ]
  },
  {
   "cell_type": "code",
   "execution_count": null,
   "metadata": {},
   "outputs": [],
   "source": [
    "mini_imshow(drawn_matches_card)"
   ]
  },
  {
   "cell_type": "code",
   "execution_count": null,
   "metadata": {},
   "outputs": [],
   "source": [
    "crop_card = crop_contour(image, card_cont)\n",
    "imshow(crop_card)"
   ]
  },
  {
   "cell_type": "markdown",
   "metadata": {
    "collapsed": false
   },
   "source": [
    "### Tracking Buildings"
   ]
  },
  {
   "cell_type": "markdown",
   "metadata": {},
   "source": [
    "Buildings are detected using the holes in the clearing mask, as they are stationary."
   ]
  },
  {
   "cell_type": "code",
   "execution_count": null,
   "metadata": {
    "collapsed": false
   },
   "outputs": [],
   "source": [
    "building_contours = detect_buildings(board_mask[:,:,0])\n",
    "building_contours = list(map(lambda cont: warp_contour(cont, M_board), building_contours))\n",
    "simshow(cv.drawContours(np.copy(image), building_contours, -1,(255,0,0),2))"
   ]
  },
  {
   "cell_type": "markdown",
   "metadata": {},
   "source": [
    "When"
   ]
  },
  {
   "cell_type": "code",
   "execution_count": null,
   "metadata": {
    "collapsed": false
   },
   "outputs": [],
   "source": [
    "for i, building in enumerate(building_contours):\n",
    "    b_crop = crop_contour(image, building)\n",
    "    print(f\"Building {i}: \", end=\" \")\n",
    "    print(f\"Orange: {calculate_color_percentage(b_crop,LOWER_ORANGE,UPPER_ORANGE):.2f}%\", end=\" \")\n",
    "    print(f\"Blue: {calculate_color_percentage(b_crop,LOWER_DARK_BLUE,UPPER_DARK_BLUE):.2f}%\")\n",
    "    imshow(b_crop)"
   ]
  },
  {
   "cell_type": "markdown",
   "metadata": {},
   "source": [
    "### Clearings and building order standarization"
   ]
  },
  {
   "cell_type": "markdown",
   "metadata": {},
   "source": [
    "The clearing contours will be found based on the clearings mask in order for their order to be stable. Then the contours will be properly warped into the board"
   ]
  },
  {
   "cell_type": "code",
   "execution_count": null,
   "metadata": {},
   "outputs": [],
   "source": [
    "clearings,buildings = get_clearings_and_buildings(board_mask[:,:,0])"
   ]
  },
  {
   "cell_type": "code",
   "execution_count": null,
   "metadata": {},
   "outputs": [],
   "source": [
    "c = np.repeat(np.copy(board_mask[:,:,0])[:,:,np.newaxis],3,axis=2)\n",
    "for i,cont in enumerate(clearings):\n",
    "    x,y,w,h = cv.boundingRect(cont)\n",
    "    c = cv.putText(c,str(i),(x,y),cv.FONT_HERSHEY_COMPLEX,2,(0,255,0),2)\n",
    "cv.drawContours(c,clearings,-1,(0,255,0),5)\n",
    "cv.drawContours(c,buildings[8],-1,(255,0,0),5)\n",
    "simshow(c)"
   ]
  },
  {
   "cell_type": "markdown",
   "metadata": {},
   "source": [
    "### Pawn Tracking\n",
    "\n",
    "To achieve pawn tracking we will take a mask of the clearings\n"
   ]
  },
  {
   "cell_type": "code",
   "execution_count": null,
   "metadata": {},
   "outputs": [],
   "source": [
    "warped_clearing_mask = cv.warpPerspective(board_mask[:,:,0],M_board,(image.shape[1], image.shape[0]))\n",
    "warped_clearings = [warp_contour(cont,M_board) for cont in clearings]"
   ]
  },
  {
   "cell_type": "code",
   "execution_count": null,
   "metadata": {},
   "outputs": [],
   "source": [
    "pawn_crop_test = crop_contour(cv.bitwise_and(image,image,mask=warped_clearing_mask),board_cont)\n",
    "mini_imshow(pawn_crop_test)"
   ]
  },
  {
   "cell_type": "markdown",
   "metadata": {},
   "source": [
    "And convert the color range to HSV"
   ]
  },
  {
   "cell_type": "code",
   "execution_count": null,
   "metadata": {},
   "outputs": [],
   "source": [
    "mini_imshow(cv.cvtColor(pawn_crop_test,cv.COLOR_BGR2HSV))"
   ]
  },
  {
   "cell_type": "markdown",
   "metadata": {},
   "source": [
    "And the elements in orange range and blue range are cropped. Because other elements get in the way, the pawn counting is divided into 2 parts.\n",
    "\n",
    "1. We divide the checked area by the biggest area and see if it is smaller than some sensivity threshold.\n",
    "2. Per clearing we take a the given area and divide it by areas 'derivative' and check for another threshold."
   ]
  },
  {
   "cell_type": "code",
   "execution_count": null,
   "metadata": {},
   "outputs": [],
   "source": [
    "detect_pawns(image,warped_clearings,warped_clearing_mask,\n",
    "            {\"orange\":(LOWER_ORANGE,UPPER_ORANGE),\"blue\":(LOWER_DARK_BLUE,UPPER_DARK_BLUE)},\n",
    "            verbose=True)"
   ]
  },
  {
   "cell_type": "markdown",
   "metadata": {},
   "source": [
    "This solution is not perfect but good enough.\n",
    "\n",
    "The pawns tracking helps us complete tracking of the game state by determining the control of each clearing and the number of pawns of each of them."
   ]
  },
  {
   "cell_type": "markdown",
   "metadata": {
    "collapsed": false
   },
   "source": [
    "## Putting it all together"
   ]
  },
  {
   "cell_type": "markdown",
   "metadata": {},
   "source": [
    "When it comes to tracking, we found that on the higher resolutions the tracking algorithm used CSRT performed much better.\n",
    "This also applies to redetection of objects."
   ]
  },
  {
   "cell_type": "code",
   "execution_count": null,
   "metadata": {},
   "outputs": [],
   "source": [
    "IGNORE_DIR = \"./ignore\""
   ]
  },
  {
   "cell_type": "code",
   "execution_count": null,
   "metadata": {},
   "outputs": [],
   "source": [
    "easy = cv.VideoCapture(f\"{RESIZED_CLIP_DIRS['easy']}/{clip_mp4(0)}\")\n",
    "if easy.isOpened():\n",
    "    print(\"Video loaded\")\n",
    "\n",
    "width,height = int(easy.get(3)), int(easy.get(4))\n",
    "\n",
    "print(width, height)\n",
    "\n",
    "fps = easy.get(cv.CAP_PROP_FPS)\n",
    "print(fps)"
   ]
  },
  {
   "cell_type": "code",
   "execution_count": null,
   "metadata": {},
   "outputs": [],
   "source": [
    "start = 0\n",
    "easy.set(cv.CAP_PROP_POS_FRAMES,start)\n",
    "ret, frame = easy.read()"
   ]
  },
  {
   "cell_type": "markdown",
   "metadata": {},
   "source": [
    "Frequently moving elements are tracked using CSRT algorithm e.g Dice and the Cards. To counter the tracking algorithm occasionally losing them, they are redetected more frequently compared to stationary objects.\n",
    "\n",
    "Things that change in stationary places, tracked by much simpler algorithms, with the stationary objects they are in being redetected much less frequently to counter occasional camera movement."
   ]
  },
  {
   "cell_type": "code",
   "execution_count": null,
   "metadata": {},
   "outputs": [],
   "source": [
    "board = Board(\"board\", board_ref)\n",
    "pawns = Pawns(\"pawns\",board,board_mask[:,:,0],0.4,0.3)\n",
    "card_pile = CardPile(\"card_pile\", card_ref)\n",
    "card = Card(\"cards\", \"CSRT\",card_pile)\n",
    "score_board = ScoreBoard(\"score_board\", board, board_mask[:, :, 2])\n",
    "buildings = Buildings(\"buildings\",board, board_mask[:, :, 0]) \n",
    "diceTray = DiceTray(\"dice_tray\",threshold=30)\n",
    "dice = Dice(\"dice\", \"CSRT\",diceTray, 1, threshold=30)\n",
    "dice_2 = Dice(\"dice_2\", \"CSRT\",diceTray, 2, threshold=30)"
   ]
  },
  {
   "cell_type": "markdown",
   "metadata": {},
   "source": [
    "The game state tracked is:\n",
    "- building in each clearing\n",
    "- number of pawns in each clearing\n",
    "- game score\n",
    "- control of each clearing\n",
    "\n",
    "Which describe the most important part of the game state, especially for these 2 factions"
   ]
  },
  {
   "cell_type": "markdown",
   "metadata": {},
   "source": [
    "There are several events that we detect:\n",
    "1. Dice rolling\n",
    "2. Buildings change\n",
    "3. Score change\n",
    "4. Drawing of a card by some player\n",
    "5. Pawns change \n",
    "\n",
    "For some of them the change in average state over time is measured to decrease their sensivity. "
   ]
  },
  {
   "cell_type": "code",
   "execution_count": null,
   "metadata": {
    "collapsed": false
   },
   "outputs": [],
   "source": [
    "track_video(easy, f\"{IGNORE_DIR}/{clip(0)}\", [dice,dice_2,card], [board,diceTray,card_pile,pawns, score_board, buildings])"
   ]
  },
  {
   "cell_type": "code",
   "execution_count": null,
   "metadata": {
    "collapsed": false
   },
   "outputs": [],
   "source": [
    "for diff in DIFFICULTIES:\n",
    "    for i in range(3):\n",
    "        clip_name = f\"{diff}_{clip(i)}\"\n",
    "        print(f\"Processing {clip_name}\")\n",
    "        video = cv.VideoCapture(f\"{CLIP_DIRS[diff]}/{clip_mp4(i)}\")\n",
    "        \n",
    "        if video.isOpened():\n",
    "            print(\"Video loaded\")\n",
    "            \n",
    "        _, frame = video.read()\n",
    "\n",
    "\n",
    "        board = Board(\"board\", board_ref)\n",
    "        pawns = Pawns(\"pawns\",board,board_mask[:,:,0],0.4,0.3)\n",
    "        card_pile = CardPile(\"card_pile\", card_ref)\n",
    "        card = Card(\"cards\", \"CSRT\",card_pile)\n",
    "        score_board = ScoreBoard(\"score_board\", board, board_mask[:, :, 2])\n",
    "        buildings = Buildings(\"buildings\",board, board_mask[:, :, 0]) \n",
    "        diceTray = DiceTray(\"dice_tray\",threshold=30)\n",
    "        dice = Dice(\"dice\", \"CSRT\",diceTray, 1, threshold=30)\n",
    "        dice_2 = Dice(\"dice_2\", \"CSRT\",diceTray, 2, threshold=30)\n",
    "\n",
    "        \n",
    "        track_video(video, f\"{IGNORE_DIR}/{clip_name}\", [dice,dice_2,card], [board,diceTray,card_pile,pawns, score_board, buildings],sec=65)"
   ]
  }
 ],
 "metadata": {
  "kernelspec": {
   "display_name": "Python 3",
   "language": "python",
   "name": "python3"
  },
  "language_info": {
   "codemirror_mode": {
    "name": "ipython",
    "version": 3
   },
   "file_extension": ".py",
   "mimetype": "text/x-python",
   "name": "python",
   "nbconvert_exporter": "python",
   "pygments_lexer": "ipython3",
   "version": "3.9.6"
  }
 },
 "nbformat": 4,
 "nbformat_minor": 2
}
