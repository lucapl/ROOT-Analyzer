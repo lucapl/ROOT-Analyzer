{
 "cells": [
  {
   "cell_type": "code",
   "execution_count": null,
   "metadata": {},
   "outputs": [],
   "source": [
    "import cv2 as cv\n",
    "import numpy as np\n",
    "from src.utils import *"
   ]
  },
  {
   "cell_type": "code",
   "execution_count": null,
   "metadata": {},
   "outputs": [],
   "source": [
    "scale_imshow = lambda img: scaled_imshow(img,fx=0.4,fy=0.4)"
   ]
  },
  {
   "cell_type": "code",
   "execution_count": null,
   "metadata": {},
   "outputs": [],
   "source": [
    "img = cv.imread('.\\\\data\\\\first_frame.png')\n",
    "img = cv.resize(img,None,fx=0.4,fy=0.4)\n",
    "gray = cv.cvtColor(img, cv.COLOR_BGR2GRAY)"
   ]
  },
  {
   "cell_type": "markdown",
   "metadata": {},
   "source": [
    "Detecting the dice tray. The dice tray is all black so a simple threshold should do the work"
   ]
  },
  {
   "cell_type": "code",
   "execution_count": null,
   "metadata": {},
   "outputs": [],
   "source": [
    "#cv2.GaussianBlur(cv2.cvtColor(img, cv2.COLOR_BGR2GRAY),(7,7),0)\n",
    "filtered = cv.bilateralFilter(gray, 9, 250, 250) \n",
    "#filtered = cv2.medianBlur(filtered,3)\n",
    "\n",
    "scale_imshow(filtered)\n",
    "\n",
    "#edges = cv2.Canny(filtered, 50, 60)\n",
    "_,edges = cv.threshold(filtered,50,255,cv.THRESH_BINARY)\n",
    "edges = 255-edges\n",
    "#edges = cv2.morphologyEx(edges, cv2.MORPH_DILATE, np.ones((2,2)))\n",
    "\n",
    "scale_imshow(edges)\n",
    "\n",
    "contours,hierarchy = cv.findContours(edges, cv.RETR_TREE, 2)\n",
    "i,largest_contour = max(enumerate(contours), key=lambda i_c:cv2.contourArea(i_c[1]))\n",
    "\n",
    "# Draw the contours on the original image\n",
    "img_contours = np.copy(img)\n",
    "cv2.drawContours(img_contours, contours, -1, (0, 255, 0), 2)\n",
    "cv2.drawContours(img_contours, [largest_contour], -1, (0, 0, 255), 2)\n",
    "\n",
    "# Display the result\n",
    "scale_imshow(img_contours)\n",
    "\n"
   ]
  },
  {
   "cell_type": "markdown",
   "metadata": {},
   "source": [
    "Here we retrieve the dice from the contour hierarchy. The hierarchy used is *RETR_TREE*, which is described in [OpenCV docs](https://docs.opencv.org/4.x/d9/d8b/tutorial_py_contours_hierarchy.html). In short the hierarchy contains information about relations to other contours. It includes:\n",
    " - next contour (at the same height),\n",
    " - previous contour (at the same height),\n",
    " - child,\n",
    " - parent\n",
    "\n",
    "Value of -1 indicates lack of another contour"
   ]
  },
  {
   "cell_type": "code",
   "execution_count": null,
   "metadata": {},
   "outputs": [],
   "source": [
    "cropped = crop_contour(img,largest_contour)\n",
    "\n",
    "imshow(cropped)\n",
    "\n",
    "_,_,i_d1,_ = hierarchy[0,i]\n",
    "i_d2,_,_,_ = hierarchy[0,i_d1]\n",
    "\n",
    "dice1 = crop_contour(img,contours[i_d1])\n",
    "dice2 = crop_contour(img,contours[i_d2])\n",
    "\n",
    "imshow(dice1)\n",
    "imshow(dice2)"
   ]
  },
  {
   "cell_type": "markdown",
   "metadata": {},
   "source": [
    "The main board is not solid color, instead there is artwork drawn on it. In order to locate it descriptors might be used."
   ]
  },
  {
   "cell_type": "code",
   "execution_count": null,
   "metadata": {},
   "outputs": [],
   "source": [
    "board_ref = cv.imread('data\\\\board.jpg')\n",
    "board_gray = cv.GaussianBlur(cv.cvtColor(board_ref, cv.COLOR_BGR2GRAY),(7,7),0)\n",
    "\n",
    "scaled_imshow(board_ref)"
   ]
  },
  {
   "cell_type": "code",
   "execution_count": null,
   "metadata": {},
   "outputs": [],
   "source": [
    "sift = cv.SIFT_create()\n",
    "kp, desc = sift.detectAndCompute(gray, None)\n",
    "\n",
    "kp2, desc2 = sift.detectAndCompute(board_gray, None)"
   ]
  },
  {
   "cell_type": "code",
   "execution_count": null,
   "metadata": {},
   "outputs": [],
   "source": [
    "bf = cv.BFMatcher()\n",
    "matches = bf.match(desc2, desc)\n",
    "\n",
    "good_matches = sorted(matches, key=lambda x: x.distance)\n",
    "_max =  max(matches, key=lambda x: x.distance).distance\n",
    "good_matches = [m for m in matches if m.distance < 0.25 * _max]\n",
    "\n",
    "src_pts = np.float32([kp2[m.queryIdx].pt for m in good_matches]).reshape(-1, 1, 2)\n",
    "dst_pts = np.float32([kp[m.trainIdx].pt for m in good_matches]).reshape(-1, 1, 2)\n",
    "M, mask = cv.findHomography(src_pts, dst_pts, cv2.RANSAC, 5.0)\n",
    "\n",
    "warped_board = cv.warpPerspective(board_ref, M, (img.shape[1], img.shape[0]))\n",
    "scale_imshow(warped_board)\n",
    "\n",
    "result = cv.addWeighted(img, 1, warped_board, 0.5, 0)\n",
    "\n",
    "scale_imshow(result)"
   ]
  },
  {
   "cell_type": "code",
   "execution_count": null,
   "metadata": {},
   "outputs": [],
   "source": [
    "draw_params = dict(matchColor = (0,255,0), # draw matches in green color\n",
    "                   singlePointColor = None,\n",
    "                   matchesMask = mask.ravel().tolist(), # draw only inliers\n",
    "                   flags = 2|4)\n",
    "img3 = cv.drawMatches(board_ref,kp2,img,kp,good_matches,None,**draw_params)\n",
    "scale_imshow(img3)"
   ]
  },
  {
   "cell_type": "code",
   "execution_count": null,
   "metadata": {},
   "outputs": [],
   "source": [
    "warped_gray = cv.cvtColor(warped_board,cv.COLOR_BGR2GRAY)\n",
    "_,edges2 = cv.threshold(warped_gray,50,255,cv.THRESH_BINARY)\n",
    "edges2 = cv.morphologyEx(edges2,cv.MORPH_CLOSE,kernel=np.ones((7,7)))\n",
    "\n",
    "scale_imshow(edges2)\n",
    "\n",
    "contours,hierarchy = cv.findContours(edges2, cv.RETR_TREE, 2)\n",
    "i,largest_contour2 = max(enumerate(contours), key=lambda i_c:cv2.contourArea(i_c[1]))\n",
    "\n",
    "scale_imshow(crop_contour(img,largest_contour2))"
   ]
  }
 ],
 "metadata": {
  "kernelspec": {
   "display_name": "Python 3",
   "language": "python",
   "name": "python3"
  },
  "language_info": {
   "codemirror_mode": {
    "name": "ipython",
    "version": 3
   },
   "file_extension": ".py",
   "mimetype": "text/x-python",
   "name": "python",
   "nbconvert_exporter": "python",
   "pygments_lexer": "ipython3",
   "version": "3.9.6"
  }
 },
 "nbformat": 4,
 "nbformat_minor": 2
}
